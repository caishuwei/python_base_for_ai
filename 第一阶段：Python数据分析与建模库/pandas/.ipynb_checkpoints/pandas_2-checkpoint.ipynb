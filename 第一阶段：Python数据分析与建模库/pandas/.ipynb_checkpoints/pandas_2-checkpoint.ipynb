{
 "cells": [
  {
   "cell_type": "code",
   "execution_count": 1,
   "metadata": {},
   "outputs": [],
   "source": [
    "import pandas "
   ]
  },
  {
   "cell_type": "code",
   "execution_count": 3,
   "metadata": {},
   "outputs": [
    {
     "name": "stdout",
     "output_type": "stream",
     "text": [
      "   PassengerId  Survived  Pclass  \\\n",
      "0            1         0       3   \n",
      "1            2         1       1   \n",
      "2            3         1       3   \n",
      "3            4         1       1   \n",
      "4            5         0       3   \n",
      "\n",
      "                                                Name     Sex   Age  SibSp  \\\n",
      "0                            Braund, Mr. Owen Harris    male  22.0      1   \n",
      "1  Cumings, Mrs. John Bradley (Florence Briggs Th...  female  38.0      1   \n",
      "2                             Heikkinen, Miss. Laina  female  26.0      0   \n",
      "3       Futrelle, Mrs. Jacques Heath (Lily May Peel)  female  35.0      1   \n",
      "4                           Allen, Mr. William Henry    male  35.0      0   \n",
      "\n",
      "   Parch            Ticket     Fare Cabin Embarked  \n",
      "0      0         A/5 21171   7.2500   NaN        S  \n",
      "1      0          PC 17599  71.2833   C85        C  \n",
      "2      0  STON/O2. 3101282   7.9250   NaN        S  \n",
      "3      0            113803  53.1000  C123        S  \n",
      "4      0            373450   8.0500   NaN        S  \n"
     ]
    }
   ],
   "source": [
    "titanic_data = pandas.read_csv(\"titanic/train.csv\")\n",
    "\n",
    "print(titanic_data.head())"
   ]
  },
  {
   "cell_type": "code",
   "execution_count": 4,
   "metadata": {},
   "outputs": [
    {
     "name": "stdout",
     "output_type": "stream",
     "text": [
      "0    3000\n",
      "1    1000\n",
      "2    3000\n",
      "3    1000\n",
      "4    3000\n",
      "Name: Pclass, dtype: int64\n"
     ]
    }
   ],
   "source": [
    "#pandas DataFrame 也类似于numpy array，可以直接进行加减乘除\n",
    "print(titanic_data.head()[\"Pclass\"]*1000)"
   ]
  },
  {
   "cell_type": "code",
   "execution_count": 10,
   "metadata": {},
   "outputs": [
    {
     "name": "stdout",
     "output_type": "stream",
     "text": [
      "445    1\n",
      "310    1\n",
      "309    1\n",
      "307    1\n",
      "306    1\n",
      "305    1\n",
      "710    1\n",
      "711    1\n",
      "311    1\n",
      "556    1\n",
      "298    1\n",
      "297    1\n",
      "779    1\n",
      "295    1\n",
      "291    1\n",
      "290    1\n",
      "571    1\n",
      "284    1\n",
      "708    1\n",
      "319    1\n",
      "356    1\n",
      "694    1\n",
      "351    1\n",
      "698    1\n",
      "341    1\n",
      "716    1\n",
      "339    1\n",
      "318    1\n",
      "336    1\n",
      "334    1\n",
      "      ..\n",
      "210    3\n",
      "300    3\n",
      "408    3\n",
      "409    3\n",
      "410    3\n",
      "411    3\n",
      "414    3\n",
      "415    3\n",
      "404    3\n",
      "355    3\n",
      "388    3\n",
      "384    3\n",
      "359    3\n",
      "360    3\n",
      "362    3\n",
      "363    3\n",
      "364    3\n",
      "365    3\n",
      "367    3\n",
      "386    3\n",
      "368    3\n",
      "372    3\n",
      "374    3\n",
      "376    3\n",
      "378    3\n",
      "379    3\n",
      "381    3\n",
      "382    3\n",
      "406    3\n",
      "890    3\n",
      "Name: Pclass, Length: 891, dtype: int64\n"
     ]
    }
   ],
   "source": [
    "#数据排序(replac表示排序后修改titanic_data数据顺序)\n",
    "#这里举个例子按船票级别进行排序\n",
    "titanic_data.sort_values(\"Pclass\",inplace = True)\n",
    "print(titanic_data[\"Pclass\"])"
   ]
  },
  {
   "cell_type": "code",
   "execution_count": null,
   "metadata": {},
   "outputs": [],
   "source": [
    "#降序排序\n",
    "titanic_data.sort_values(\"Pclass\",inplace = True,ascending = False)\n",
    "print(titanic_data[\"Pclass\"])"
   ]
  }
 ],
 "metadata": {
  "kernelspec": {
   "display_name": "Python 3",
   "language": "python",
   "name": "python3"
  },
  "language_info": {
   "codemirror_mode": {
    "name": "ipython",
    "version": 3
   },
   "file_extension": ".py",
   "mimetype": "text/x-python",
   "name": "python",
   "nbconvert_exporter": "python",
   "pygments_lexer": "ipython3",
   "version": "3.6.4"
  }
 },
 "nbformat": 4,
 "nbformat_minor": 2
}
