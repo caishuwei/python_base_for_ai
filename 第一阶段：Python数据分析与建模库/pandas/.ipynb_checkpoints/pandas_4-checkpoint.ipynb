{
 "cells": [
  {
   "cell_type": "code",
   "execution_count": 25,
   "metadata": {},
   "outputs": [],
   "source": [
    "import pandas as pd\n",
    "from pandas import Series\n",
    "import numpy as np"
   ]
  },
  {
   "cell_type": "code",
   "execution_count": null,
   "metadata": {},
   "outputs": [],
   "source": [
    "#Series(collection of value) DataFrame的一个子集 底层由numpy实现,貌似是nparray的子类\n",
    "#DataFrame(ollection of Series object)"
   ]
  },
  {
   "cell_type": "code",
   "execution_count": 3,
   "metadata": {},
   "outputs": [
    {
     "data": {
      "text/html": [
       "<div>\n",
       "<style scoped>\n",
       "    .dataframe tbody tr th:only-of-type {\n",
       "        vertical-align: middle;\n",
       "    }\n",
       "\n",
       "    .dataframe tbody tr th {\n",
       "        vertical-align: top;\n",
       "    }\n",
       "\n",
       "    .dataframe thead th {\n",
       "        text-align: right;\n",
       "    }\n",
       "</style>\n",
       "<table border=\"1\" class=\"dataframe\">\n",
       "  <thead>\n",
       "    <tr style=\"text-align: right;\">\n",
       "      <th></th>\n",
       "      <th>PassengerId</th>\n",
       "      <th>Survived</th>\n",
       "      <th>Pclass</th>\n",
       "      <th>Name</th>\n",
       "      <th>Sex</th>\n",
       "      <th>Age</th>\n",
       "      <th>SibSp</th>\n",
       "      <th>Parch</th>\n",
       "      <th>Ticket</th>\n",
       "      <th>Fare</th>\n",
       "      <th>Cabin</th>\n",
       "      <th>Embarked</th>\n",
       "    </tr>\n",
       "  </thead>\n",
       "  <tbody>\n",
       "    <tr>\n",
       "      <th>0</th>\n",
       "      <td>1</td>\n",
       "      <td>0</td>\n",
       "      <td>3</td>\n",
       "      <td>Braund, Mr. Owen Harris</td>\n",
       "      <td>male</td>\n",
       "      <td>22.0</td>\n",
       "      <td>1</td>\n",
       "      <td>0</td>\n",
       "      <td>A/5 21171</td>\n",
       "      <td>7.2500</td>\n",
       "      <td>NaN</td>\n",
       "      <td>S</td>\n",
       "    </tr>\n",
       "    <tr>\n",
       "      <th>1</th>\n",
       "      <td>2</td>\n",
       "      <td>1</td>\n",
       "      <td>1</td>\n",
       "      <td>Cumings, Mrs. John Bradley (Florence Briggs Th...</td>\n",
       "      <td>female</td>\n",
       "      <td>38.0</td>\n",
       "      <td>1</td>\n",
       "      <td>0</td>\n",
       "      <td>PC 17599</td>\n",
       "      <td>71.2833</td>\n",
       "      <td>C85</td>\n",
       "      <td>C</td>\n",
       "    </tr>\n",
       "    <tr>\n",
       "      <th>2</th>\n",
       "      <td>3</td>\n",
       "      <td>1</td>\n",
       "      <td>3</td>\n",
       "      <td>Heikkinen, Miss. Laina</td>\n",
       "      <td>female</td>\n",
       "      <td>26.0</td>\n",
       "      <td>0</td>\n",
       "      <td>0</td>\n",
       "      <td>STON/O2. 3101282</td>\n",
       "      <td>7.9250</td>\n",
       "      <td>NaN</td>\n",
       "      <td>S</td>\n",
       "    </tr>\n",
       "    <tr>\n",
       "      <th>3</th>\n",
       "      <td>4</td>\n",
       "      <td>1</td>\n",
       "      <td>1</td>\n",
       "      <td>Futrelle, Mrs. Jacques Heath (Lily May Peel)</td>\n",
       "      <td>female</td>\n",
       "      <td>35.0</td>\n",
       "      <td>1</td>\n",
       "      <td>0</td>\n",
       "      <td>113803</td>\n",
       "      <td>53.1000</td>\n",
       "      <td>C123</td>\n",
       "      <td>S</td>\n",
       "    </tr>\n",
       "    <tr>\n",
       "      <th>4</th>\n",
       "      <td>5</td>\n",
       "      <td>0</td>\n",
       "      <td>3</td>\n",
       "      <td>Allen, Mr. William Henry</td>\n",
       "      <td>male</td>\n",
       "      <td>35.0</td>\n",
       "      <td>0</td>\n",
       "      <td>0</td>\n",
       "      <td>373450</td>\n",
       "      <td>8.0500</td>\n",
       "      <td>NaN</td>\n",
       "      <td>S</td>\n",
       "    </tr>\n",
       "  </tbody>\n",
       "</table>\n",
       "</div>"
      ],
      "text/plain": [
       "   PassengerId  Survived  Pclass  \\\n",
       "0            1         0       3   \n",
       "1            2         1       1   \n",
       "2            3         1       3   \n",
       "3            4         1       1   \n",
       "4            5         0       3   \n",
       "\n",
       "                                                Name     Sex   Age  SibSp  \\\n",
       "0                            Braund, Mr. Owen Harris    male  22.0      1   \n",
       "1  Cumings, Mrs. John Bradley (Florence Briggs Th...  female  38.0      1   \n",
       "2                             Heikkinen, Miss. Laina  female  26.0      0   \n",
       "3       Futrelle, Mrs. Jacques Heath (Lily May Peel)  female  35.0      1   \n",
       "4                           Allen, Mr. William Henry    male  35.0      0   \n",
       "\n",
       "   Parch            Ticket     Fare Cabin Embarked  \n",
       "0      0         A/5 21171   7.2500   NaN        S  \n",
       "1      0          PC 17599  71.2833   C85        C  \n",
       "2      0  STON/O2. 3101282   7.9250   NaN        S  \n",
       "3      0            113803  53.1000  C123        S  \n",
       "4      0            373450   8.0500   NaN        S  "
      ]
     },
     "execution_count": 3,
     "metadata": {},
     "output_type": "execute_result"
    }
   ],
   "source": [
    "titanic_surval = pd.read_csv(\"titanic/train.csv\")\n",
    "titanic_surval.head()"
   ]
  },
  {
   "cell_type": "code",
   "execution_count": 10,
   "metadata": {},
   "outputs": [
    {
     "name": "stdout",
     "output_type": "stream",
     "text": [
      "<class 'pandas.core.series.Series'>\n",
      "0                              Braund, Mr. Owen Harris\n",
      "1    Cumings, Mrs. John Bradley (Florence Briggs Th...\n",
      "2                               Heikkinen, Miss. Laina\n",
      "3         Futrelle, Mrs. Jacques Heath (Lily May Peel)\n",
      "4                             Allen, Mr. William Henry\n",
      "Name: Name, dtype: object\n",
      "0    22.0\n",
      "1    38.0\n",
      "2    26.0\n",
      "3    35.0\n",
      "4    35.0\n",
      "Name: Age, dtype: float64\n"
     ]
    }
   ],
   "source": [
    "series_name = titanic_surval[\"Name\"]\n",
    "print(type(series_name))\n",
    "print(series_name[0:5])#可以使用nparray的操作即可\n",
    "\n",
    "series_age =  titanic_surval[\"Age\"]\n",
    "print(series_age[0:5])"
   ]
  },
  {
   "cell_type": "code",
   "execution_count": 20,
   "metadata": {},
   "outputs": [
    {
     "data": {
      "text/plain": [
       "Braund, Mr. Owen Harris     22.0\n",
       "Allen, Mr. William Henry    35.0\n",
       "dtype: float64"
      ]
     },
     "execution_count": 20,
     "metadata": {},
     "output_type": "execute_result"
    }
   ],
   "source": [
    "#定义series(含有index和values)\n",
    "name_values = series_name.values#这里只读取值出来\n",
    "age_values = series_age.values\n",
    "\n",
    "#自定义series结构包含名称与年龄,并将名称作为索引\n",
    "series_custom = Series(age_values,index = name_values)\n",
    "#然后就可以将名称作为索引使用\n",
    "series_custom[[\"Braund, Mr. Owen Harris\",\"Allen, Mr. William Henry\"]]"
   ]
  },
  {
   "cell_type": "code",
   "execution_count": 16,
   "metadata": {},
   "outputs": [
    {
     "data": {
      "text/plain": [
       "Braund, Mr. Owen Harris                                22.0\n",
       "Cumings, Mrs. John Bradley (Florence Briggs Thayer)    38.0\n",
       "Heikkinen, Miss. Laina                                 26.0\n",
       "dtype: float64"
      ]
     },
     "execution_count": 16,
     "metadata": {},
     "output_type": "execute_result"
    }
   ],
   "source": [
    "#原先的使用下标做索引也可以继续使用\n",
    "series_custom[0:3]"
   ]
  },
  {
   "cell_type": "code",
   "execution_count": 40,
   "metadata": {},
   "outputs": [
    {
     "name": "stdout",
     "output_type": "stream",
     "text": [
      "Abbing, Mr. Anthony                      42.0\n",
      "Abbott, Mr. Rossmore Edward              16.0\n",
      "Abbott, Mrs. Stanton (Rosa Hunt)         35.0\n",
      "Abelson, Mr. Samuel                      30.0\n",
      "Abelson, Mrs. Samuel (Hannah Wizosky)    28.0\n",
      "dtype: float64\n"
     ]
    }
   ],
   "source": [
    "original_index = series_custom.index.tolist()\n",
    "#拿到名称列表（之前设置了名称为index）\n",
    "# print(original_index)\n",
    "\n",
    "#对名称list进行排序\n",
    "sorted_index = sorted(original_index)\n",
    "# print(sorted_index)\n",
    "#reindex将行序号更新\n",
    "sorted_by_index = series_custom.reindex(sorted_index)\n",
    "print(sorted_by_index[0:5])"
   ]
  },
  {
   "cell_type": "code",
   "execution_count": 24,
   "metadata": {},
   "outputs": [
    {
     "name": "stdout",
     "output_type": "stream",
     "text": [
      "Abbing, Mr. Anthony                      42.0\n",
      "Abbott, Mr. Rossmore Edward              16.0\n",
      "Abbott, Mrs. Stanton (Rosa Hunt)         35.0\n",
      "Abelson, Mr. Samuel                      30.0\n",
      "Abelson, Mrs. Samuel (Hannah Wizosky)    28.0\n",
      "dtype: float64\n",
      "Thomas, Master. Assad Alexander    0.42\n",
      "Hamalainen, Master. Viljo          0.67\n",
      "Baclini, Miss. Eugenie             0.75\n",
      "Baclini, Miss. Helene Barbara      0.75\n",
      "Caldwell, Master. Alden Gates      0.83\n",
      "dtype: float64\n"
     ]
    }
   ],
   "source": [
    "#在series中可以直接使用排序方法进行排序\n",
    "sc2 = series_custom.sort_index()\n",
    "sc3 = series_custom.sort_values()\n",
    "print(sc2[0:5])\n",
    "print(sc3[0:5])"
   ]
  },
  {
   "cell_type": "code",
   "execution_count": 38,
   "metadata": {},
   "outputs": [
    {
     "name": "stdout",
     "output_type": "stream",
     "text": [
      "80.0\n"
     ]
    }
   ],
   "source": [
    "#series与np可以混用\n",
    "# print(np.add(series_custom,series_custom))\n",
    "\n",
    "# print(np.sin(series_custom))\n",
    "print(np.max(series_custom))"
   ]
  },
  {
   "cell_type": "code",
   "execution_count": 49,
   "metadata": {},
   "outputs": [
    {
     "name": "stdout",
     "output_type": "stream",
     "text": [
      "Braund, Mr. Owen Harris                                     22.0\n",
      "Heikkinen, Miss. Laina                                      26.0\n",
      "Johnson, Mrs. Oscar W (Elisabeth Vilhelmina Berg)           27.0\n",
      "Saundercock, Mr. William Henry                              20.0\n",
      "Sloper, Mr. William Thompson                                28.0\n",
      "Fortune, Mr. Charles Alexander                              19.0\n",
      "Meyer, Mr. Edgar Joseph                                     28.0\n",
      "Cann, Mr. Ernest Charles                                    21.0\n",
      "Turpin, Mrs. William John Robert (Dorothy Ann Wonnacott)    27.0\n",
      "Devaney, Miss. Margaret Delia                               19.0\n",
      "Nosworthy, Mr. Richard Cater                                21.0\n",
      "Faunthorpe, Mrs. Lizzie (Elizabeth Anne Wilkinson)          29.0\n",
      "Rugg, Miss. Emily                                           21.0\n",
      "Novel, Mr. Mansouer                                         28.5\n",
      "Sirayanian, Mr. Orsen                                       22.0\n",
      "Nye, Mrs. (Elizabeth Ramell)                                29.0\n",
      "Crease, Mr. Ernest James                                    19.0\n",
      "Kink, Mr. Vincenz                                           26.0\n",
      "Hood, Mr. Ambrose Jr                                        21.0\n",
      "Chronopoulos, Mr. Apostolos                                 26.0\n",
      "Moen, Mr. Sigurd Hansen                                     25.0\n",
      "Waelens, Mr. Achille                                        22.0\n",
      "Sheerlinck, Mr. Jan Baptist                                 29.0\n",
      "Carrau, Mr. Francisco M                                     28.0\n",
      "Fortune, Miss. Mabel Helen                                  23.0\n",
      "Celotti, Mr. Francesco                                      24.0\n",
      "Christmann, Mr. Emil                                        29.0\n",
      "Andreasson, Mr. Paul Edvin                                  20.0\n",
      "Dean, Mr. Bertram Frank                                     26.0\n",
      "Greenfield, Mr. William Bertram                             23.0\n",
      "                                                            ... \n",
      "Barah, Mr. Hanna Assi                                       20.0\n",
      "Lievens, Mr. Rene Aime                                      24.0\n",
      "Long, Mr. Milton Clyde                                      29.0\n",
      "Ali, Mr. William                                            25.0\n",
      "Harmer, Mr. Abraham (David Lishin)                          25.0\n",
      "Dantcheff, Mr. Ristiu                                       25.0\n",
      "Hedman, Mr. Oskar Arvid                                     27.0\n",
      "Alexander, Mr. William                                      26.0\n",
      "Heininen, Miss. Wendla Maria                                23.0\n",
      "Lulic, Mr. Nikola                                           27.0\n",
      "Moor, Mrs. (Beila)                                          27.0\n",
      "Augustsson, Mr. Albert                                      23.0\n",
      "Pasic, Mr. Jakob                                            21.0\n",
      "Alhomaki, Mr. Ilmari Rudolf                                 20.0\n",
      "Harper, Rev. John                                           28.0\n",
      "Baclini, Mrs. Solomon (Latifa Qurban)                       24.0\n",
      "Giles, Mr. Frederick Edward                                 21.0\n",
      "Gill, Mr. John William                                      24.0\n",
      "Duran y More, Miss. Asuncion                                27.0\n",
      "Balkic, Mr. Cerin                                           26.0\n",
      "Abelson, Mrs. Samuel (Hannah Wizosky)                       28.0\n",
      "Gustafsson, Mr. Alfred Ossian                               20.0\n",
      "Petroff, Mr. Nedelio                                        19.0\n",
      "Shelley, Mrs. William (Imanita Parrish Hall)                25.0\n",
      "Dahlberg, Miss. Gerda Ulrika                                22.0\n",
      "Banfield, Mr. Frederick James                               28.0\n",
      "Sutehall, Mr. Henry Jr                                      25.0\n",
      "Montvila, Rev. Juozas                                       27.0\n",
      "Graham, Miss. Margaret Edith                                19.0\n",
      "Behr, Mr. Karl Howell                                       26.0\n",
      "Length: 245, dtype: float64\n"
     ]
    }
   ],
   "source": [
    "series_grater_than_50 = series_custom[series_custom>50]\n",
    "# print(series_grater_than_50)\n",
    "\n",
    "# 与符号居然跟大于小于号是同优先级的，导致不加小括号会出错。。。。\n",
    "print(series_custom[(series_custom<30)&(series_custom>18)])"
   ]
  },
  {
   "cell_type": "code",
   "execution_count": null,
   "metadata": {},
   "outputs": [],
   "source": []
  },
  {
   "cell_type": "code",
   "execution_count": null,
   "metadata": {},
   "outputs": [],
   "source": []
  }
 ],
 "metadata": {
  "kernelspec": {
   "display_name": "Python 3",
   "language": "python",
   "name": "python3"
  },
  "language_info": {
   "codemirror_mode": {
    "name": "ipython",
    "version": 3
   },
   "file_extension": ".py",
   "mimetype": "text/x-python",
   "name": "python",
   "nbconvert_exporter": "python",
   "pygments_lexer": "ipython3",
   "version": "3.6.4"
  }
 },
 "nbformat": 4,
 "nbformat_minor": 2
}
