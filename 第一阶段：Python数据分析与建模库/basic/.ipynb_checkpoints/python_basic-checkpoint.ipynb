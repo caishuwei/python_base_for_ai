{
 "cells": [
  {
   "cell_type": "code",
   "execution_count": 1,
   "metadata": {},
   "outputs": [],
   "source": [
    "# 变量创建\n",
    "# 可以不声明类型，自动根据赋值确定类型，不需要封号\n",
    "days = 365"
   ]
  },
  {
   "cell_type": "code",
   "execution_count": 2,
   "metadata": {},
   "outputs": [
    {
     "name": "stdout",
     "output_type": "stream",
     "text": [
      "365\n"
     ]
    }
   ],
   "source": [
    "number_of_days = 365\n",
    "print(number_of_days)"
   ]
  },
  {
   "cell_type": "code",
   "execution_count": 11,
   "metadata": {},
   "outputs": [
    {
     "name": "stdout",
     "output_type": "stream",
     "text": [
      "China\n",
      "123\n",
      "122.5\n"
     ]
    }
   ],
   "source": [
    "str_test = \"China\"\n",
    "int_test = 123\n",
    "float_test = 122.5\n",
    "\n",
    "print(str_test)\n",
    "print(int_test)\n",
    "print(float_test)"
   ]
  },
  {
   "cell_type": "code",
   "execution_count": 8,
   "metadata": {},
   "outputs": [
    {
     "name": "stdout",
     "output_type": "stream",
     "text": [
      "<class 'str'>\n",
      "<class 'int'>\n",
      "<class 'float'>\n"
     ]
    }
   ],
   "source": [
    "# type函数显示变量类型\n",
    "\n",
    "print(type(str_test))\n",
    "print(type(int_test))\n",
    "print(type(float_test))"
   ]
  },
  {
   "cell_type": "code",
   "execution_count": 10,
   "metadata": {},
   "outputs": [
    {
     "name": "stdout",
     "output_type": "stream",
     "text": [
      "<class 'str'>\n",
      "<class 'int'>\n"
     ]
    }
   ],
   "source": [
    "#类型转换\n",
    "str_eight = str(8)\n",
    "\n",
    "print(type(str_eight))\n",
    "\n",
    "eight = 8\n",
    "str_eight_two = str(eight)\n",
    "\n",
    "str_eight = \"8\"\n",
    "int_eight = int(str_eight)\n",
    "\n",
    "print(type(int_eight))\n"
   ]
  },
  {
   "cell_type": "code",
   "execution_count": 18,
   "metadata": {},
   "outputs": [
    {
     "name": "stdout",
     "output_type": "stream",
     "text": [
      "invalid literal for int() with base 10: 'test'\n",
      "字符串转数字出错，字符串内容不是数字\n"
     ]
    }
   ],
   "source": [
    "#在进行类型转换时会出错，因为内容不是数字 \n",
    "try:\n",
    "    str_test= \"test\"\n",
    "    str_2_int = int(str_test)\n",
    "except  Exception as err:\n",
    "    print(err)\n",
    "    \n",
    "finally:\n",
    "    print(\"字符串转数字出错，字符串内容不是数字\")\n"
   ]
  },
  {
   "cell_type": "code",
   "execution_count": 19,
   "metadata": {},
   "outputs": [
    {
     "data": {
      "text/plain": [
       "'\\n+ 加法\\n- 减法\\n* 乘法\\n/ 除法\\n** 平方\\n'"
      ]
     },
     "execution_count": 19,
     "metadata": {},
     "output_type": "execute_result"
    }
   ],
   "source": [
    "\"\"\"\n",
    "+ 加法\n",
    "- 减法\n",
    "* 乘法\n",
    "/ 除法\n",
    "** 幂\n",
    "\"\"\""
   ]
  },
  {
   "cell_type": "code",
   "execution_count": 20,
   "metadata": {},
   "outputs": [
    {
     "name": "stdout",
     "output_type": "stream",
     "text": [
      "20\n",
      "10000\n",
      "100\n"
     ]
    }
   ],
   "source": [
    "china = 10\n",
    "united_states = 100\n",
    "china_plus_10 = china+10\n",
    "us_times_100 = united_states*100\n",
    "\n",
    "print(china_plus_10)\n",
    "print(us_times_100)\n",
    "print(china**2)"
   ]
  },
  {
   "cell_type": "code",
   "execution_count": 24,
   "metadata": {},
   "outputs": [
    {
     "name": "stdout",
     "output_type": "stream",
     "text": [
      "<class 'list'>\n",
      "[]\n",
      "['January', 'February', 1]\n"
     ]
    }
   ],
   "source": [
    "#list(与java不同，python是动态类型，可以添加任意类型的变量到集合中)\n",
    "months = []\n",
    "\n",
    "print(type(months))\n",
    "\n",
    "print(months)\n",
    "\n",
    "months.append(\"January\")\n",
    "months.append(\"February\")\n",
    "months.append(1)\n",
    "print(months)"
   ]
  },
  {
   "cell_type": "code",
   "execution_count": null,
   "metadata": {},
   "outputs": [],
   "source": [
    "temps = [\"China\",122.5,\"India\",124.0,\"United States\",134.1]"
   ]
  },
  {
   "cell_type": "code",
   "execution_count": 25,
   "metadata": {},
   "outputs": [
    {
     "name": "stdout",
     "output_type": "stream",
     "text": [
      "['China', 'United States']\n",
      "[30.5, 25.0, 15.1]\n",
      "China\n",
      "25.0\n"
     ]
    }
   ],
   "source": [
    "countries = []\n",
    "temperatures = []\n",
    "\n",
    "countries.append(\"China\")\n",
    "countries.append(\"United States\")\n",
    "\n",
    "temperatures.append(30.5)\n",
    "temperatures.append(25.0)\n",
    "temperatures.append(15.1)\n",
    "\n",
    "print(countries)\n",
    "print(temperatures)\n",
    "chian = countries[0]\n",
    "chian_temperature = temperatures[1]\n",
    "\n",
    "\n",
    "print(chian)\n",
    "print(chian_temperature)\n"
   ]
  },
  {
   "cell_type": "code",
   "execution_count": 27,
   "metadata": {},
   "outputs": [
    {
     "name": "stdout",
     "output_type": "stream",
     "text": [
      "12\n"
     ]
    }
   ],
   "source": [
    "#集合长度，len函数读取所有支持迭代的对象长度\n",
    "int_months = [1,2,3,4,5,6,7,8,9,10,11,12]\n",
    "length = len(int_months)\n",
    "print(length)"
   ]
  },
  {
   "cell_type": "code",
   "execution_count": 29,
   "metadata": {},
   "outputs": [
    {
     "name": "stdout",
     "output_type": "stream",
     "text": [
      "12\n",
      "12\n",
      "11\n"
     ]
    }
   ],
   "source": [
    "#按位置读取元素\n",
    "int_months = [1,2,3,4,5,6,7,8,9,10,11,12]\n",
    "print(int_months[-1])#倒数第一个元素\n",
    "print(int_months[len(int_months)-1])#倒数第一个元素\n",
    "print(int_months[-2])#倒数第二个元素\n"
   ]
  },
  {
   "cell_type": "code",
   "execution_count": 34,
   "metadata": {},
   "outputs": [
    {
     "name": "stdout",
     "output_type": "stream",
     "text": [
      "['Mar', 'Apr']\n",
      "['Mar', 'Apr', 'May', 'Jun', 'Jul']\n",
      "['Jan', 'Feb', 'Mar', 'Apr']\n",
      "['Jan', 'Feb', 'Mar', 'Apr', 'May', 'Jun', 'Jul']\n"
     ]
    }
   ],
   "source": [
    "#集合切片\n",
    "months = [\"Jan\",\"Feb\",\"Mar\",\"Apr\",\"May\",\"Jun\",\"Jul\"]\n",
    "\n",
    "# 取下标2，3\n",
    "two_four = months[2:4]\n",
    "print(two_four)\n",
    "\n",
    "#取下标2到结尾\n",
    "print(months[2:])\n",
    "\n",
    "#取开头到下标3\n",
    "print(months[:4])\n",
    "\n",
    "#下标超出集合长度不报异常，相应的切片集合也不会有那么多元素\n",
    "print(months[:100])"
   ]
  },
  {
   "cell_type": "code",
   "execution_count": null,
   "metadata": {},
   "outputs": [],
   "source": [
    "#循环"
   ]
  },
  {
   "cell_type": "code",
   "execution_count": 42,
   "metadata": {},
   "outputs": [
    {
     "name": "stdout",
     "output_type": "stream",
     "text": [
      "Austin\n",
      "Dallas\n",
      "Houston\n",
      "遍历字符串，字符串也具有迭代方法\n",
      "a\n",
      "b\n",
      "c\n",
      "d\n",
      "e\n",
      "f\n",
      "g\n"
     ]
    }
   ],
   "source": [
    "#for循环(任何支持迭代的对象都可以用于for循环)\n",
    "cities = [\"Austin\",\"Dallas\",\"Houston\"]\n",
    "\n",
    "for city in cities:\n",
    "    print(city)\n",
    "    \n",
    "    \n",
    "print(\"遍历字符串，字符串也具有迭代方法\")\n",
    "for char in \"abcdefg\":\n",
    "    print(char)\n"
   ]
  },
  {
   "cell_type": "code",
   "execution_count": 38,
   "metadata": {},
   "outputs": [
    {
     "name": "stdout",
     "output_type": "stream",
     "text": [
      "1\n",
      "2\n",
      "3\n"
     ]
    }
   ],
   "source": [
    "#while循环\n",
    "i = 0\n",
    "while i<3:\n",
    "    i+=1\n",
    "    print(i)"
   ]
  },
  {
   "cell_type": "code",
   "execution_count": 44,
   "metadata": {},
   "outputs": [
    {
     "name": "stdout",
     "output_type": "stream",
     "text": [
      "0\n",
      "1\n",
      "2\n",
      "3\n",
      "4\n",
      "5\n",
      "6\n",
      "7\n",
      "8\n",
      "9\n"
     ]
    }
   ],
   "source": [
    "#范围 同kotlin，高级语言特性都极其相似，互相学习，越来越像，哈哈\n",
    "for i in range(10):\n",
    "    print(i)"
   ]
  },
  {
   "cell_type": "code",
   "execution_count": 50,
   "metadata": {},
   "outputs": [
    {
     "name": "stdout",
     "output_type": "stream",
     "text": [
      "[['Austin', 'Dallas', 'Houston'], ['Haerbin', 'Shanghai', 'Beijing']]\n",
      "Austin\n",
      "Dallas\n",
      "Houston\n",
      "Haerbin\n",
      "Shanghai\n",
      "Beijing\n",
      "多维数组按下标读取Haerbin\n"
     ]
    }
   ],
   "source": [
    "#集合嵌套，模仿多维数组\n",
    "cities = [[\"Austin\",\"Dallas\",\"Houston\"],[\"Haerbin\",\"Shanghai\",\"Beijing\"]]\n",
    "print(cities)\n",
    "\n",
    "for cityArr in cities:\n",
    "    for city in cityArr:\n",
    "        print(city)\n",
    "\n",
    "print(\"多维数组按下标读取\"+cities[1][0])"
   ]
  },
  {
   "cell_type": "code",
   "execution_count": 54,
   "metadata": {},
   "outputs": [
    {
     "name": "stdout",
     "output_type": "stream",
     "text": [
      "<class 'bool'>\n"
     ]
    }
   ],
   "source": [
    "#Booleans\n",
    "cat = True\n",
    "dog = False\n",
    "print(type(cat))"
   ]
  },
  {
   "cell_type": "code",
   "execution_count": 61,
   "metadata": {},
   "outputs": [
    {
     "name": "stdout",
     "output_type": "stream",
     "text": [
      "True\n",
      "False\n",
      "False\n",
      "True\n",
      "False\n"
     ]
    }
   ],
   "source": [
    "#比较\n",
    "print(8==8)\n",
    "print(8!=8)\n",
    "\n",
    "print(8==10)\n",
    "\n",
    "print(\"8\"==\"8\")\n",
    "print(\"8\"==8)"
   ]
  },
  {
   "cell_type": "code",
   "execution_count": 62,
   "metadata": {},
   "outputs": [
    {
     "name": "stdout",
     "output_type": "stream",
     "text": [
      "False\n",
      "True\n"
     ]
    }
   ],
   "source": [
    "rates=  [10,15,20]\n",
    "print(rates[0]>rates[1])\n",
    "\n",
    "print(rates[0]>=rates[0])"
   ]
  },
  {
   "cell_type": "code",
   "execution_count": 65,
   "metadata": {},
   "outputs": [
    {
     "name": "stdout",
     "output_type": "stream",
     "text": [
      "less than\n"
     ]
    }
   ],
   "source": [
    "#判断\n",
    "sample_rate = 1\n",
    "greater = (sample_rate>5)\n",
    "if greater:\n",
    "    print(sample_rate)\n",
    "else:\n",
    "    print(\"less than\")"
   ]
  },
  {
   "cell_type": "code",
   "execution_count": 70,
   "metadata": {},
   "outputs": [
    {
     "name": "stdout",
     "output_type": "stream",
     "text": [
      "小于或等于0的整数视为False\n"
     ]
    }
   ],
   "source": [
    "if 0:\n",
    "    print(\"大于0的整数视为True\")\n",
    "else:\n",
    "    print(\"小于或等于0的整数视为False\")"
   ]
  },
  {
   "cell_type": "code",
   "execution_count": 74,
   "metadata": {},
   "outputs": [
    {
     "name": "stdout",
     "output_type": "stream",
     "text": [
      "Cat found\n",
      "Cat found\n"
     ]
    }
   ],
   "source": [
    "#集合中找值\n",
    "animals = [\"cat\",\"dog\",\"rabbit\"]\n",
    "for animal in animals:\n",
    "    if animal == \"cat\":\n",
    "        print(\"Cat found\")\n",
    "\n",
    "#利用in关键字判断是否存在元素\n",
    "if \"cat\" in animals:\n",
    "        print(\"Cat found\")"
   ]
  },
  {
   "cell_type": "code",
   "execution_count": 75,
   "metadata": {},
   "outputs": [
    {
     "name": "stdout",
     "output_type": "stream",
     "text": [
      "85\n"
     ]
    }
   ],
   "source": [
    "#字典\n",
    "students = [\"Tom\",\"Jim\",\"Sue\",\"Ann\"]\n",
    "scores = [70,80,85,75]\n",
    "indexes = [0,1,2,3]\n",
    "name = \"Sue\"\n",
    "score = 0\n",
    "for i in indexes:\n",
    "    if students[i] == name:\n",
    "        score = scores[i]\n",
    "        break\n",
    "print(score)"
   ]
  },
  {
   "cell_type": "code",
   "execution_count": 85,
   "metadata": {},
   "outputs": [
    {
     "name": "stdout",
     "output_type": "stream",
     "text": [
      "<class 'dict'>\n",
      "dict_keys(['Tom', 'Jim', 'Sue', 'Ann'])\n",
      "dict_values([70, 80, 85, 75])\n",
      "{'Tom': 70, 'Jim': 80, 'Sue': 85, 'Ann': 75}\n"
     ]
    }
   ],
   "source": [
    "scores = {\"Tom\":70,\"Jim\":80}#初始化时添加参数\n",
    "print(type(scores))\n",
    "\n",
    "# scores[\"Tom\"] = 70\n",
    "# scores[\"Jim\"] = 80\n",
    "scores[\"Sue\"] = 85\n",
    "scores[\"Ann\"] = 75\n",
    "\n",
    "print(scores.keys())\n",
    "print(scores.values())\n",
    "print(scores)\n"
   ]
  },
  {
   "cell_type": "code",
   "execution_count": 81,
   "metadata": {
    "scrolled": true
   },
   "outputs": [
    {
     "name": "stdout",
     "output_type": "stream",
     "text": [
      "85\n"
     ]
    }
   ],
   "source": [
    "#寻找Sue成绩\n",
    "print(scores[\"Sue\"])"
   ]
  },
  {
   "cell_type": "code",
   "execution_count": 88,
   "metadata": {},
   "outputs": [],
   "source": [
    "#文件操作"
   ]
  },
  {
   "cell_type": "code",
   "execution_count": 90,
   "metadata": {},
   "outputs": [
    {
     "name": "stdout",
     "output_type": "stream",
     "text": [
      "Android 2years\n",
      "Java 3years\n"
     ]
    }
   ],
   "source": [
    "# 打开文件（文件名，读写模式）\n",
    "f = open(\"text.txt\",\"r\")\n",
    "g = f.read()#读取文件内容\n",
    "print(g)\n",
    "f.close()#关闭流"
   ]
  },
  {
   "cell_type": "code",
   "execution_count": 92,
   "metadata": {},
   "outputs": [],
   "source": [
    "#写文件(可写模式，文件不存在时会先创建)\n",
    "f = open(\"test_write.txt\",\"w\")\n",
    "f.write(\"123456\")\n",
    "f.write(\"\\n\")\n",
    "f.write(\"789 10 11 12\")\n",
    "\n",
    "f.close()\n"
   ]
  },
  {
   "cell_type": "code",
   "execution_count": 100,
   "metadata": {},
   "outputs": [
    {
     "name": "stdout",
     "output_type": "stream",
     "text": [
      "1,Sunny\n",
      "2,Sunny\n",
      "3,Sunny\n",
      "4,Sunny\n",
      "5,Sunny\n",
      "6,Rain\n",
      "7,Sunny\n",
      "8,Sunny\n",
      "9,Fog\n",
      "10,Rain\n",
      "\n"
     ]
    }
   ],
   "source": [
    "#读取csv文件（Excel表格读取，用逗号分开每列的值，换行符分开行）\n",
    "f = open(\"weather.csv\",\"r\")\n",
    "g = f.read()#读取文件内容\n",
    "print(g)\n",
    "f.close()#关闭流\n",
    "# weather_data = []"
   ]
  },
  {
   "cell_type": "code",
   "execution_count": 94,
   "metadata": {},
   "outputs": [
    {
     "name": "stdout",
     "output_type": "stream",
     "text": [
      "['1,Sunny', '2,Sunny', '3,Sunny', '4,Sunny', '5,Sunny', '6,Rain', '7,Sunny', '8,Sunny', '9,Fog', '10,Rain', '']\n"
     ]
    }
   ],
   "source": [
    "rows = g.split(\"\\n\")#按换行分开表格每行的数据\n",
    "print(rows)"
   ]
  },
  {
   "cell_type": "code",
   "execution_count": 95,
   "metadata": {},
   "outputs": [
    {
     "name": "stdout",
     "output_type": "stream",
     "text": [
      "[['1', 'Sunny'], ['2', 'Sunny'], ['3', 'Sunny'], ['4', 'Sunny'], ['5', 'Sunny'], ['6', 'Rain'], ['7', 'Sunny'], ['8', 'Sunny'], ['9', 'Fog'], ['10', 'Rain'], ['']]\n"
     ]
    }
   ],
   "source": [
    "weather_data = []\n",
    "for row in rows:\n",
    "    column = row.split(\",\")\n",
    "    weather_data.append(column)\n",
    "    \n",
    "print(weather_data)"
   ]
  },
  {
   "cell_type": "code",
   "execution_count": null,
   "metadata": {},
   "outputs": [],
   "source": [
    "#python 函数"
   ]
  },
  {
   "cell_type": "code",
   "execution_count": 99,
   "metadata": {},
   "outputs": [
    {
     "name": "stdout",
     "output_type": "stream",
     "text": [
      "call newFunction\n"
     ]
    }
   ],
   "source": [
    "#函数定义，使用defind的所写 def进行函数定义\n",
    "def newFunction():\n",
    "    print (\"call newFunction\")\n",
    "\n",
    "newFunction()#调用函数"
   ]
  },
  {
   "cell_type": "code",
   "execution_count": 102,
   "metadata": {},
   "outputs": [
    {
     "ename": "SyntaxError",
     "evalue": "unexpected EOF while parsing (<ipython-input-102-790247ef1527>, line 4)",
     "output_type": "error",
     "traceback": [
      "\u001b[1;36m  File \u001b[1;32m\"<ipython-input-102-790247ef1527>\"\u001b[1;36m, line \u001b[1;32m4\u001b[0m\n\u001b[1;33m    print(add(3,6)\u001b[0m\n\u001b[1;37m                  ^\u001b[0m\n\u001b[1;31mSyntaxError\u001b[0m\u001b[1;31m:\u001b[0m unexpected EOF while parsing\n"
     ]
    }
   ],
   "source": [
    "#参数和返回\n",
    "def add(v1,v2):\n",
    "    return v1+v2\n",
    "print(add(3,6))"
   ]
  },
  {
   "cell_type": "code",
   "execution_count": null,
   "metadata": {},
   "outputs": [],
   "source": []
  }
 ],
 "metadata": {
  "kernelspec": {
   "display_name": "Python 3",
   "language": "python",
   "name": "python3"
  },
  "language_info": {
   "codemirror_mode": {
    "name": "ipython",
    "version": 3
   },
   "file_extension": ".py",
   "mimetype": "text/x-python",
   "name": "python",
   "nbconvert_exporter": "python",
   "pygments_lexer": "ipython3",
   "version": "3.6.4"
  }
 },
 "nbformat": 4,
 "nbformat_minor": 2
}
