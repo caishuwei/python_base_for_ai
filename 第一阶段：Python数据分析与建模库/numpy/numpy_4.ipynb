{
 "cells": [
  {
   "cell_type": "code",
   "execution_count": 1,
   "metadata": {},
   "outputs": [],
   "source": [
    "import numpy as np"
   ]
  },
  {
   "cell_type": "code",
   "execution_count": 2,
   "metadata": {},
   "outputs": [
    {
     "name": "stdout",
     "output_type": "stream",
     "text": [
      "[0 1 2]\n",
      "[1.         2.71828183 7.3890561 ]\n",
      "[0.         1.         1.41421356]\n"
     ]
    }
   ],
   "source": [
    "#其他的一些标准运算\n",
    "B = np.arange(3)\n",
    "print(B)\n",
    "print(np.exp(B))#e的x次幂作为新数组元素的值。e为对数函数中常使用的e，近似值为2.718，x为对应位置元素的值\n",
    "print(np.sqrt(B))#x开平方后的值作为新数组元素的值，x为旧数组对应位置元素的值"
   ]
  },
  {
   "cell_type": "code",
   "execution_count": 14,
   "metadata": {},
   "outputs": [
    {
     "name": "stdout",
     "output_type": "stream",
     "text": [
      "----向下取整----\n",
      "[[1. 2. 0. 1.]\n",
      " [8. 7. 8. 8.]\n",
      " [2. 5. 1. 1.]]\n",
      "----矩阵结构重置回一维----\n",
      "[1. 2. 0. 1. 8. 7. 8. 8. 2. 5. 1. 1.]\n",
      "----重新设置矩阵----\n",
      "[[1. 2. 0. 1. 8. 7.]\n",
      " [8. 8. 2. 5. 1. 1.]]\n",
      "[[1. 2. 0. 1. 8. 7.]\n",
      " [8. 8. 2. 5. 1. 1.]]\n",
      "--------\n",
      "[[1. 8.]\n",
      " [2. 8.]\n",
      " [0. 2.]\n",
      " [1. 5.]\n",
      " [8. 1.]\n",
      " [7. 1.]]\n"
     ]
    }
   ],
   "source": [
    "#元素向下取整\n",
    "a = np.floor(np.random.random((3,4))*10)\n",
    "print(\"----向下取整----\")\n",
    "print(a)\n",
    "print(\"----矩阵结构重置回一维----\")\n",
    "# print(help(np.ravel))\n",
    "print(a.ravel())\n",
    "print(\"----重新设置矩阵----\")\n",
    "print(a.reshape((2,6)))#这个是重新生成新的矩阵，通过元组指定新矩阵结构\n",
    "a.shape = (2,6)#这里直接修改矩阵的属性，源矩阵结构被改变\n",
    "print(a)\n",
    "print(\"--------\")\n",
    "print(a.T)#装置矩阵，行列结构互换"
   ]
  },
  {
   "cell_type": "code",
   "execution_count": 17,
   "metadata": {},
   "outputs": [
    {
     "name": "stdout",
     "output_type": "stream",
     "text": [
      "[[5. 0.]\n",
      " [4. 1.]]\n",
      "[[1. 6.]\n",
      " [2. 1.]]\n",
      "-----vstack行拼接,拼接完毕行数增加，方法名为垂直拼接缩写------\n",
      "[[5. 0.]\n",
      " [4. 1.]\n",
      " [1. 6.]\n",
      " [2. 1.]]\n",
      "-----hstack列拼接,水平拼接，增加列数------\n",
      "[[5. 0. 1. 6.]\n",
      " [4. 1. 2. 1.]]\n"
     ]
    }
   ],
   "source": [
    "#矩阵拼接\n",
    "a = np.floor(np.random.random((2,2))*10)\n",
    "b = np.floor(np.random.random((2,2))*10)\n",
    "print(a)\n",
    "print(b)\n",
    "print(\"-----vstack行拼接,拼接完毕行数增加，方法名为垂直拼接缩写------\")\n",
    "print(np.vstack((a,b)))\n",
    "\n",
    "print(\"-----hstack列拼接,水平拼接，增加列数------\")\n",
    "print(np.hstack((a,b)))"
   ]
  },
  {
   "cell_type": "code",
   "execution_count": 25,
   "metadata": {
    "scrolled": false
   },
   "outputs": [
    {
     "name": "stdout",
     "output_type": "stream",
     "text": [
      "[[6. 1. 6. 9. 6. 3. 9. 2. 9. 7. 4. 4.]\n",
      " [2. 2. 5. 7. 8. 1. 1. 8. 9. 2. 4. 6.]]\n",
      "----hsplit水平切分矩阵-----\n",
      "[array([[6., 1., 6., 9.],\n",
      "       [2., 2., 5., 7.]]), array([[6., 3., 9., 2.],\n",
      "       [8., 1., 1., 8.]]), array([[9., 7., 4., 4.],\n",
      "       [9., 2., 4., 6.]])]\n",
      "----hsplit水平切分矩阵-----\n",
      "[array([[6., 1., 6.],\n",
      "       [2., 2., 5.]]), array([[9.],\n",
      "       [7.]]), array([[6., 3., 9., 2., 9., 7., 4., 4.],\n",
      "       [8., 1., 1., 8., 9., 2., 4., 6.]])]\n",
      "----vsplit垂直切分矩阵-----\n",
      "[array([[6., 1., 6., 9., 6., 3., 9., 2., 9., 7., 4., 4.]]), array([[2., 2., 5., 7., 8., 1., 1., 8., 9., 2., 4., 6.]])]\n"
     ]
    }
   ],
   "source": [
    "#矩阵切分\n",
    "a = np.floor(10*np.random.random((2,12)))\n",
    "print(a)\n",
    "print(\"----hsplit水平切分矩阵-----\")\n",
    "print(np.hsplit(a,3))#水平切分，每行的元素切分到3个矩阵、\n",
    "print(\"----hsplit水平切分矩阵-----\")\n",
    "print(np.hsplit(a,(3,4)))#水平切分，切分第三列到第四列（不包含）\n",
    "print(\"----vsplit垂直切分矩阵-----\")\n",
    "print(np.vsplit(a,2))#垂直切分矩阵\n"
   ]
  },
  {
   "cell_type": "code",
   "execution_count": 29,
   "metadata": {},
   "outputs": [
    {
     "name": "stdout",
     "output_type": "stream",
     "text": [
      "True\n",
      "(3, 4)\n",
      "1501856392496\n",
      "1501856392496\n"
     ]
    }
   ],
   "source": [
    "#矩阵复制\n",
    "\n",
    "#同引用的对象操作\n",
    "a = np.arange(12)\n",
    "b = a \n",
    "print(b is a)\n",
    "b.shape = (3,4)#修改属性不会生成新对象\n",
    "print(a.shape)\n",
    "print(id(a))#id相当于java Hashcode\n",
    "print(id(b))"
   ]
  },
  {
   "cell_type": "code",
   "execution_count": 30,
   "metadata": {},
   "outputs": [
    {
     "name": "stdout",
     "output_type": "stream",
     "text": [
      "False\n",
      "(3, 4)\n",
      "[[   0    1    2    3]\n",
      " [1234    5    6    7]\n",
      " [   8    9   10   11]]\n",
      "1501856392496\n",
      "1501856391296\n"
     ]
    }
   ],
   "source": [
    "#浅复制\n",
    "c = a.view()\n",
    "print(c is a)\n",
    "\n",
    "c.shape = (2,6)\n",
    "print(a.shape)\n",
    "\n",
    "c[0,4] = 1234\n",
    "print(a)\n",
    "print(id(a))\n",
    "print(id(c))\n",
    "\n",
    "#结论，view复制，只是生成一个新的array对象，但对象内部存储数据的数组都只复制了引用\n",
    "#所以修改复制后的array元素，还是会修改到同一个数组的元素值，view拷贝不推荐使用，表层拷贝。。。"
   ]
  },
  {
   "cell_type": "code",
   "execution_count": 31,
   "metadata": {},
   "outputs": [
    {
     "name": "stdout",
     "output_type": "stream",
     "text": [
      "False\n",
      "[[9999    1    2    3]\n",
      " [1234    5    6    7]\n",
      " [   8    9   10   11]]\n",
      "[[   0    1    2    3]\n",
      " [1234    5    6    7]\n",
      " [   8    9   10   11]]\n"
     ]
    }
   ],
   "source": [
    "#copy实现拷贝\n",
    "d = a.copy()\n",
    "print(d is a )\n",
    "d[0,0] = 9999\n",
    "print(d)\n",
    "print(a)"
   ]
  },
  {
   "cell_type": "code",
   "execution_count": null,
   "metadata": {},
   "outputs": [],
   "source": []
  }
 ],
 "metadata": {
  "kernelspec": {
   "display_name": "Python 3",
   "language": "python",
   "name": "python3"
  },
  "language_info": {
   "codemirror_mode": {
    "name": "ipython",
    "version": 3
   },
   "file_extension": ".py",
   "mimetype": "text/x-python",
   "name": "python",
   "nbconvert_exporter": "python",
   "pygments_lexer": "ipython3",
   "version": "3.6.4"
  }
 },
 "nbformat": 4,
 "nbformat_minor": 2
}
