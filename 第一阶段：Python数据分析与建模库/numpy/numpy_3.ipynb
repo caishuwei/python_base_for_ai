{
 "cells": [
  {
   "cell_type": "code",
   "execution_count": 3,
   "metadata": {},
   "outputs": [
    {
     "name": "stdout",
     "output_type": "stream",
     "text": [
      "[ 0  1  2  3  4  5  6  7  8  9 10 11 12 13 14]\n"
     ]
    },
    {
     "data": {
      "text/plain": [
       "array([[ 0,  1,  2,  3,  4],\n",
       "       [ 5,  6,  7,  8,  9],\n",
       "       [10, 11, 12, 13, 14]])"
      ]
     },
     "execution_count": 3,
     "metadata": {},
     "output_type": "execute_result"
    }
   ],
   "source": [
    "import numpy as np #导入并定义别名\n",
    "#矩阵属性\n",
    "print(np.arange(15))#自动填充一个整型数组\n",
    "a = np.arange(15).reshape(3,5)#重新划分结构\n",
    "a\n"
   ]
  },
  {
   "cell_type": "code",
   "execution_count": 4,
   "metadata": {},
   "outputs": [
    {
     "data": {
      "text/plain": [
       "(3, 5)"
      ]
     },
     "execution_count": 4,
     "metadata": {},
     "output_type": "execute_result"
    }
   ],
   "source": [
    "a.shape#矩阵结构"
   ]
  },
  {
   "cell_type": "code",
   "execution_count": 5,
   "metadata": {},
   "outputs": [
    {
     "data": {
      "text/plain": [
       "2"
      ]
     },
     "execution_count": 5,
     "metadata": {},
     "output_type": "execute_result"
    }
   ],
   "source": [
    "a.ndim#维度"
   ]
  },
  {
   "cell_type": "code",
   "execution_count": 6,
   "metadata": {},
   "outputs": [
    {
     "data": {
      "text/plain": [
       "'int32'"
      ]
     },
     "execution_count": 6,
     "metadata": {},
     "output_type": "execute_result"
    }
   ],
   "source": [
    "a.dtype.name#数据类型"
   ]
  },
  {
   "cell_type": "code",
   "execution_count": 7,
   "metadata": {},
   "outputs": [
    {
     "data": {
      "text/plain": [
       "15"
      ]
     },
     "execution_count": 7,
     "metadata": {},
     "output_type": "execute_result"
    }
   ],
   "source": [
    "a.size#矩阵元素数量"
   ]
  },
  {
   "cell_type": "code",
   "execution_count": null,
   "metadata": {},
   "outputs": [],
   "source": [
    "#矩阵初始化方式"
   ]
  },
  {
   "cell_type": "code",
   "execution_count": 8,
   "metadata": {},
   "outputs": [
    {
     "data": {
      "text/plain": [
       "array([[0., 0., 0., 0.],\n",
       "       [0., 0., 0., 0.],\n",
       "       [0., 0., 0., 0.]])"
      ]
     },
     "execution_count": 8,
     "metadata": {},
     "output_type": "execute_result"
    }
   ],
   "source": [
    "#生成默认值是零的浮点数组，传入元组指定各维度值\n",
    "np.zeros((3,4))"
   ]
  },
  {
   "cell_type": "code",
   "execution_count": 9,
   "metadata": {},
   "outputs": [
    {
     "data": {
      "text/plain": [
       "array([[[1, 1, 1, 1],\n",
       "        [1, 1, 1, 1],\n",
       "        [1, 1, 1, 1]],\n",
       "\n",
       "       [[1, 1, 1, 1],\n",
       "        [1, 1, 1, 1],\n",
       "        [1, 1, 1, 1]]])"
      ]
     },
     "execution_count": 9,
     "metadata": {},
     "output_type": "execute_result"
    }
   ],
   "source": [
    "#初始化一个三维数组，默认值是1的整型\n",
    "np.ones((2,3,4),dtype = np.int32)"
   ]
  },
  {
   "cell_type": "code",
   "execution_count": 12,
   "metadata": {},
   "outputs": [
    {
     "data": {
      "text/plain": [
       "array([10, 15, 20, 25])"
      ]
     },
     "execution_count": 12,
     "metadata": {},
     "output_type": "execute_result"
    }
   ],
   "source": [
    "# 创建数组，起步是10，到30为止（不包含30），步长5\n",
    "# print(help(np.arange))\n",
    "np.arange(10,30,5)"
   ]
  },
  {
   "cell_type": "code",
   "execution_count": 19,
   "metadata": {},
   "outputs": [
    {
     "data": {
      "text/plain": [
       "array([[0.73389719, 0.67647651, 0.19437058],\n",
       "       [0.49780725, 0.6459887 , 0.26468644]])"
      ]
     },
     "execution_count": 19,
     "metadata": {},
     "output_type": "execute_result"
    }
   ],
   "source": [
    "#numpy.random模块,random方法随机初始值\n",
    "np.random.random((2,3))"
   ]
  },
  {
   "cell_type": "code",
   "execution_count": 23,
   "metadata": {},
   "outputs": [
    {
     "data": {
      "text/plain": [
       "array([  0.,   2.,   4.,   6.,   8.,  10.,  12.,  14.,  16.,  18.,  20.,\n",
       "        22.,  24.,  26.,  28.,  30.,  32.,  34.,  36.,  38.,  40.,  42.,\n",
       "        44.,  46.,  48.,  50.,  52.,  54.,  56.,  58.,  60.,  62.,  64.,\n",
       "        66.,  68.,  70.,  72.,  74.,  76.,  78.,  80.,  82.,  84.,  86.,\n",
       "        88.,  90.,  92.,  94.,  96.,  98., 100., 102., 104., 106., 108.,\n",
       "       110., 112., 114., 116., 118., 120., 122., 124., 126., 128., 130.,\n",
       "       132., 134., 136., 138., 140., 142., 144., 146., 148., 150., 152.,\n",
       "       154., 156., 158., 160., 162., 164., 166., 168., 170., 172., 174.,\n",
       "       176., 178., 180., 182., 184., 186., 188., 190., 192., 194., 196.,\n",
       "       198., 200.])"
      ]
     },
     "execution_count": 23,
     "metadata": {},
     "output_type": "execute_result"
    }
   ],
   "source": [
    "#线性间隔取值，取得指定区间内101个数\n",
    "np.linspace(0,200,101)#起始0开始，200为止，中间101个数，相邻数等差"
   ]
  },
  {
   "cell_type": "code",
   "execution_count": 25,
   "metadata": {},
   "outputs": [
    {
     "data": {
      "text/plain": [
       "array([ 1.        ,  0.99949654,  0.99798668,  0.99547192,  0.99195481,\n",
       "        0.98743889,  0.9819287 ,  0.97542979,  0.9679487 ,  0.95949297,\n",
       "        0.95007112,  0.93969262,  0.92836793,  0.91610846,  0.90292654,\n",
       "        0.88883545,  0.87384938,  0.85798341,  0.84125353,  0.82367658,\n",
       "        0.80527026,  0.78605309,  0.76604444,  0.74526445,  0.72373404,\n",
       "        0.70147489,  0.67850941,  0.65486073,  0.63055267,  0.60560969,\n",
       "        0.58005691,  0.55392006,  0.52722547,  0.5       ,  0.47227107,\n",
       "        0.44406661,  0.41541501,  0.38634513,  0.35688622,  0.32706796,\n",
       "        0.29692038,  0.26647381,  0.23575894,  0.20480667,  0.17364818,\n",
       "        0.14231484,  0.1108382 ,  0.07924996,  0.04758192,  0.01586596,\n",
       "       -0.01586596, -0.04758192, -0.07924996, -0.1108382 , -0.14231484,\n",
       "       -0.17364818, -0.20480667, -0.23575894, -0.26647381, -0.29692038,\n",
       "       -0.32706796, -0.35688622, -0.38634513, -0.41541501, -0.44406661,\n",
       "       -0.47227107, -0.5       , -0.52722547, -0.55392006, -0.58005691,\n",
       "       -0.60560969, -0.63055267, -0.65486073, -0.67850941, -0.70147489,\n",
       "       -0.72373404, -0.74526445, -0.76604444, -0.78605309, -0.80527026,\n",
       "       -0.82367658, -0.84125353, -0.85798341, -0.87384938, -0.88883545,\n",
       "       -0.90292654, -0.91610846, -0.92836793, -0.93969262, -0.95007112,\n",
       "       -0.95949297, -0.9679487 , -0.97542979, -0.9819287 , -0.98743889,\n",
       "       -0.99195481, -0.99547192, -0.99798668, -0.99949654, -1.        ])"
      ]
     },
     "execution_count": 25,
     "metadata": {},
     "output_type": "execute_result"
    }
   ],
   "source": [
    "#numpy提供的三角函数计算，可以对数组每个元素进行三角函数计算，很方便啊\n",
    "np.cos(np.linspace(0,np.pi,100))"
   ]
  },
  {
   "cell_type": "code",
   "execution_count": 28,
   "metadata": {},
   "outputs": [
    {
     "name": "stdout",
     "output_type": "stream",
     "text": [
      "[20 30 40 50]\n",
      "[0 1 2 3]\n",
      "[20 29 38 47]\n",
      "[19 28 37 46]\n",
      "[0 1 4 9]\n",
      "[ True  True False False]\n"
     ]
    }
   ],
   "source": [
    "#numpy数组的加减乘除\n",
    "a = np.array([20,30,40,50])\n",
    "b = np.arange(4)\n",
    "print(a)\n",
    "print(b)\n",
    "#数组之间的加减，按位置每个元素与对应元素进行加减\n",
    "c = a-b\n",
    "print (c)\n",
    "#加减乘除一个常数，则每个元素进行加减乘除\n",
    "c = c-1\n",
    "print (c)\n",
    "#b**2\n",
    "print(b**2)\n",
    "#每个元素都进行判断\n",
    "print(a<35)"
   ]
  },
  {
   "cell_type": "code",
   "execution_count": 30,
   "metadata": {},
   "outputs": [
    {
     "name": "stdout",
     "output_type": "stream",
     "text": [
      "[[1 1]\n",
      " [0 1]]\n",
      "-----------\n",
      "[[2 0]\n",
      " [3 4]]\n",
      "----A*B----\n",
      "[[2 0]\n",
      " [0 4]]\n",
      "----A.dot(B)----\n",
      "[[5 4]\n",
      " [3 4]]\n",
      "----np.dot(A,B)----\n",
      "[[5 4]\n",
      " [3 4]]\n"
     ]
    }
   ],
   "source": [
    "#numpy矩阵运算\n",
    "A= np.array([[1,1],[0,1]])\n",
    "B= np.array([[2,0],[3,4]])\n",
    "\n",
    "print(A)\n",
    "print(\"-----------\")\n",
    "print(B)\n",
    "print(\"----A*B----\")\n",
    "print(A*B)#内积，对应位置元素相乘\n",
    "print(\"----A.dot(B)----\")\n",
    "#矩阵操作，矩阵相乘\n",
    "#计算为一个行乘以一个列，具体如下\n",
    "#新矩阵第一行第一列的值：A第一行[1,1]乘以B第一列[2,3] 1*2+1*3 = 5\n",
    "#新矩阵第一行第二列的值：A第一行[1,1]乘以B第二列[0,4] 1*0+1*4 = 4\n",
    "#新矩阵第二行第一列的值：A第二行[0,1]乘以B第一列[2,3] 0*2+1*3 = 3\n",
    "#新矩阵第二行第二列的值：A第二行[0,1]乘以B第二列[0,4] 0*0+1*4 = 4\n",
    "#所以矩阵的乘法其实也很简单，matrix[x，y] = 左矩阵的第x行*右矩阵的第y列\n",
    "#由于前一个矩阵取行，后一个矩阵取列（这是因为维度关系，第一个维度就是行，后面才是列，估计三维数组也是按照这个顺序），颠倒矩阵乘法顺序结果会不同\n",
    "#也因此，矩阵的乘法有左乘与右乘的区别\n",
    "print(A.dot(B))\n",
    "print(\"----np.dot(A,B)----\")\n",
    "print(np.dot(A,B))\n"
   ]
  },
  {
   "cell_type": "code",
   "execution_count": null,
   "metadata": {},
   "outputs": [],
   "source": []
  }
 ],
 "metadata": {
  "kernelspec": {
   "display_name": "Python 3",
   "language": "python",
   "name": "python3"
  },
  "language_info": {
   "codemirror_mode": {
    "name": "ipython",
    "version": 3
   },
   "file_extension": ".py",
   "mimetype": "text/x-python",
   "name": "python",
   "nbconvert_exporter": "python",
   "pygments_lexer": "ipython3",
   "version": "3.6.4"
  }
 },
 "nbformat": 4,
 "nbformat_minor": 2
}
