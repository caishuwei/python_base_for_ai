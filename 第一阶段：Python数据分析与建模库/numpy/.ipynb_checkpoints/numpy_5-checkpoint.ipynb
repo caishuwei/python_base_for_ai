{
 "cells": [
  {
   "cell_type": "code",
   "execution_count": 2,
   "metadata": {},
   "outputs": [],
   "source": [
    "import numpy as np"
   ]
  },
  {
   "cell_type": "code",
   "execution_count": 11,
   "metadata": {},
   "outputs": [
    {
     "name": "stdout",
     "output_type": "stream",
     "text": [
      "[[0.21639129 0.28579227 0.07648365 0.71930384]\n",
      " [0.70111223 0.07108099 0.27644662 0.52570256]\n",
      " [0.23702052 0.77589079 0.06879869 0.7208751 ]\n",
      " [0.11018142 0.63897973 0.08636139 0.57109436]\n",
      " [0.40430054 0.19636608 0.65584203 0.33560112]]\n",
      "[1 2 4 2]\n",
      "[0.70111223 0.77589079 0.65584203 0.7208751 ]\n"
     ]
    }
   ],
   "source": [
    "data = np.sin(np.random.random(20).reshape((5,4)))\n",
    "print(data)\n",
    "# 使用argmax取得每列最大值元素的下标 维度指定0代表列\n",
    "ind = data.argmax(axis = 0)\n",
    "print(ind)\n",
    "#读取出每列的最大值元素值组成新的array\n",
    "#第一个数是要读取的行下标组成的数组，第二个数是要读取的列下标组成的数组\n",
    "#也就是两个数组指定了新数组每个元素的行列下标\n",
    "data_max = data[ind,range(data.shape[1])]\n",
    "print(data_max)"
   ]
  },
  {
   "cell_type": "code",
   "execution_count": 12,
   "metadata": {},
   "outputs": [
    {
     "name": "stdout",
     "output_type": "stream",
     "text": [
      "[ 0 10 20 30]\n",
      "[[ 0 10 20 30  0 10 20 30]\n",
      " [ 0 10 20 30  0 10 20 30]]\n"
     ]
    }
   ],
   "source": [
    "#tile函数对矩阵进行复制扩展\n",
    "a = np.arange(0,40,10)\n",
    "print(a)\n",
    "#行复制为原来的两倍，列也复制为原来的两倍\n",
    "b = np.tile(a,(2,2))\n",
    "print(b)"
   ]
  },
  {
   "cell_type": "code",
   "execution_count": 16,
   "metadata": {},
   "outputs": [
    {
     "name": "stdout",
     "output_type": "stream",
     "text": [
      "[[4 3 5]\n",
      " [1 2 1]]\n",
      "--------每行的元素进行排序--------\n",
      "[[3 4 5]\n",
      " [1 1 2]]\n",
      "--------直接调用实例的sort方法对内部元素进行排序，会修改源矩阵的元素顺序--------\n",
      "[[3 4 5]\n",
      " [1 1 2]]\n",
      "-------重新给a赋值-------\n",
      "[4 3 1 2]\n",
      "-------对A的所有元素进行排序-------\n",
      "[2 3 1 0]\n"
     ]
    }
   ],
   "source": [
    "#排序\n",
    "a = np.array([[4,3,5],[1,2,1]])\n",
    "print(a)\n",
    "print(\"--------每行的元素进行排序--------\")\n",
    "b = np.sort(a,axis = 1)\n",
    "print(b)\n",
    "print(\"--------直接调用实例的sort方法对内部元素进行排序，会修改源矩阵的元素顺序--------\")\n",
    "a.sort(axis = 1)\n",
    "print(a)\n",
    "\n",
    "a = np.array([4,3,1,2])\n",
    "print(\"-------重新给a赋值-------\")\n",
    "print(a)\n",
    "print(\"-------对A的所有元素进行大小排序,由小到大将下标记录到新数组中-------\")\n",
    "j = np.argsort(a)\n",
    "print(j)\n",
    "print(a[j])"
   ]
  },
  {
   "cell_type": "code",
   "execution_count": null,
   "metadata": {},
   "outputs": [],
   "source": []
  },
  {
   "cell_type": "code",
   "execution_count": null,
   "metadata": {},
   "outputs": [],
   "source": []
  },
  {
   "cell_type": "code",
   "execution_count": null,
   "metadata": {},
   "outputs": [],
   "source": []
  }
 ],
 "metadata": {
  "kernelspec": {
   "display_name": "Python 3",
   "language": "python",
   "name": "python3"
  },
  "language_info": {
   "codemirror_mode": {
    "name": "ipython",
    "version": 3
   },
   "file_extension": ".py",
   "mimetype": "text/x-python",
   "name": "python",
   "nbconvert_exporter": "python",
   "pygments_lexer": "ipython3",
   "version": "3.6.4"
  }
 },
 "nbformat": 4,
 "nbformat_minor": 2
}
