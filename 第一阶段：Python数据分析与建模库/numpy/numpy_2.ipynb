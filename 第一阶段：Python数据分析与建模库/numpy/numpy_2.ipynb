{
 "cells": [
  {
   "cell_type": "code",
   "execution_count": 7,
   "metadata": {},
   "outputs": [
    {
     "name": "stdout",
     "output_type": "stream",
     "text": [
      "<class 'numpy.ndarray'>\n",
      "[False  True False False]\n"
     ]
    }
   ],
   "source": [
    "import numpy\n",
    "#向量元素判断\n",
    "vector = numpy.array([5,10,15,20])\n",
    "array1 = (vector==10)\n",
    "print(type(array1))#执行双等号后返回array\n",
    "print(array1)#array长度与向量相同，元素为每个向量的元素与10比较后的结果"
   ]
  },
  {
   "cell_type": "code",
   "execution_count": 8,
   "metadata": {},
   "outputs": [
    {
     "name": "stdout",
     "output_type": "stream",
     "text": [
      "<class 'numpy.ndarray'>\n",
      "[[False False  True False False]\n",
      " [False False  True False False]\n",
      " [False False  True False False]\n",
      " [False False  True False False]]\n"
     ]
    }
   ],
   "source": [
    "#矩阵的判断也一样\n",
    "matrix = numpy.array([\n",
    "    [1,2,3,4,5],\n",
    "    [11,12,13,14,15],\n",
    "    [21,22,23,24,25],\n",
    "    [31,32,33,34,35]])\n",
    "array2 = (matrix%10 == 3)#矩阵元素对10求余后等于3为true\n",
    "print(type(array2))\n",
    "print(array2)"
   ]
  },
  {
   "cell_type": "code",
   "execution_count": 9,
   "metadata": {},
   "outputs": [
    {
     "name": "stdout",
     "output_type": "stream",
     "text": [
      "[10]\n",
      "[ 3 13 23 33]\n"
     ]
    }
   ],
   "source": [
    "#返回array中判断为True的值,可以将array当做索引使用，返回一个新的array包含选择的元素\n",
    "print(vector[array1])\n",
    "print(matrix[array2])"
   ]
  },
  {
   "cell_type": "code",
   "execution_count": 12,
   "metadata": {},
   "outputs": [
    {
     "name": "stdout",
     "output_type": "stream",
     "text": [
      "[False False False False False]\n",
      "[False False False False  True]\n"
     ]
    }
   ],
   "source": [
    "vector = numpy.array([1,2,3,4,5])\n",
    "#与运算符对两个array对应位置的元素进行与运算，返回新的array\n",
    "equal_to_ten_and_five = (vector==10 )& (vector==5)\n",
    "print(equal_to_ten_and_five)\n",
    "\n",
    "#当然也可以进行或运算\n",
    "equal_to_ten_or_five = (vector==10 )| (vector==5)\n",
    "print(equal_to_ten_or_five)"
   ]
  },
  {
   "cell_type": "code",
   "execution_count": 14,
   "metadata": {
    "scrolled": false
   },
   "outputs": [
    {
     "name": "stdout",
     "output_type": "stream",
     "text": [
      "<U1\n",
      "['1' '2' '3']\n",
      "[1. 2. 3.]\n"
     ]
    }
   ],
   "source": [
    "#numpy类型转换\n",
    "vector = numpy.array([\"1\",\"2\",\"3\"])\n",
    "# print(help(vector))\n",
    "print(vector.dtype)#获取数组的数据类型\n",
    "print(vector)\n",
    "vector = vector.astype(float)#转换元素类型为float\n",
    "print(vector)"
   ]
  },
  {
   "cell_type": "code",
   "execution_count": 16,
   "metadata": {},
   "outputs": [
    {
     "name": "stdout",
     "output_type": "stream",
     "text": [
      "1\n",
      "5\n",
      "15\n"
     ]
    }
   ],
   "source": [
    "#python的简洁之处，提供了很多很方便的方法\n",
    "vector = numpy.array([1,2,3,4,5])\n",
    "print(vector.min())#array还提供了一些函数可以直接获取所有元素的最大值最小值\n",
    "print(vector.max())#最大值\n",
    "print(vector.sum())#统计"
   ]
  },
  {
   "cell_type": "code",
   "execution_count": 26,
   "metadata": {},
   "outputs": [
    {
     "name": "stdout",
     "output_type": "stream",
     "text": [
      "[ 30  75 120 165]\n"
     ]
    }
   ],
   "source": [
    "matrix = numpy.array(\n",
    "[\n",
    "    [5,10,15],\n",
    "    [20,25,30],\n",
    "    [35,40,45],\n",
    "    [50,55,60]\n",
    "]\n",
    ")\n",
    "#print(help(numpy.sum))\n",
    "print(matrix.sum(axis = 1))#axis = 0为按列操作，axis = 1为按行操作"
   ]
  }
 ],
 "metadata": {
  "kernelspec": {
   "display_name": "Python 3",
   "language": "python",
   "name": "python3"
  },
  "language_info": {
   "codemirror_mode": {
    "name": "ipython",
    "version": 3
   },
   "file_extension": ".py",
   "mimetype": "text/x-python",
   "name": "python",
   "nbconvert_exporter": "python",
   "pygments_lexer": "ipython3",
   "version": "3.6.4"
  }
 },
 "nbformat": 4,
 "nbformat_minor": 2
}
